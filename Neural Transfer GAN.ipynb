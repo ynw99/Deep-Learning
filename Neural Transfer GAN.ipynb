{
 "cells": [
  {
   "cell_type": "markdown",
   "id": "07f8b4c4",
   "metadata": {},
   "source": [
    "The source of this tutorial:\n",
    "https://github.com/tensorflow/models/blob/master/research/nst_blogpost/4_Neural_Style_Transfer_with_Eager_Execution.ipynb"
   ]
  },
  {
   "cell_type": "markdown",
   "id": "dadc91b4",
   "metadata": {},
   "source": [
    "# Setup"
   ]
  },
  {
   "cell_type": "markdown",
   "id": "9a8dc83c",
   "metadata": {},
   "source": [
    "## Download Images"
   ]
  },
  {
   "cell_type": "code",
   "execution_count": 1,
   "id": "71c7f7c2",
   "metadata": {},
   "outputs": [],
   "source": [
    "import os"
   ]
  },
  {
   "cell_type": "code",
   "execution_count": 9,
   "id": "06ad4d53",
   "metadata": {},
   "outputs": [],
   "source": [
    "img_dir = 'img/'\n",
    "\n",
    "if not os.path.exists(img_dir):\n",
    "    os.mkdir(img_dir)"
   ]
  },
  {
   "cell_type": "code",
   "execution_count": 10,
   "id": "c4e13110",
   "metadata": {},
   "outputs": [],
   "source": [
    "!wget --quiet -P img/ https://upload.wikimedia.org/wikipedia/commons/d/d7/Green_Sea_Turtle_grazing_seagrass.jpg\n",
    "!wget --quiet -P img/ https://upload.wikimedia.org/wikipedia/commons/0/0a/The_Great_Wave_off_Kanagawa.jpg\n",
    "!wget --quiet -P img/ https://upload.wikimedia.org/wikipedia/commons/b/b4/Vassily_Kandinsky%2C_1913_-_Composition_7.jpg\n",
    "!wget --quiet -P img/ https://upload.wikimedia.org/wikipedia/commons/0/00/Tuebingen_Neckarfront.jpg\n",
    "!wget --quiet -P img/ https://upload.wikimedia.org/wikipedia/commons/6/68/Pillars_of_creation_2014_HST_WFC3-UVIS_full-res_denoised.jpg\n",
    "!wget --quiet -P img/ https://upload.wikimedia.org/wikipedia/commons/thumb/e/ea/Van_Gogh_-_Starry_Night_-_Google_Art_Project.jpg/1024px-Van_Gogh_-_Starry_Night_-_Google_Art_Project.jpg"
   ]
  },
  {
   "cell_type": "markdown",
   "id": "4995aba3",
   "metadata": {},
   "source": [
    "## Import and Configure Modules"
   ]
  },
  {
   "cell_type": "code",
   "execution_count": 11,
   "id": "73eb3288",
   "metadata": {},
   "outputs": [],
   "source": [
    "import matplotlib.pyplot as plt\n",
    "import matplotlib as mpl\n",
    "mpl.rcParams['figure.figsize'] = (10,10)\n",
    "mpl.rcParams['axes.grid'] = False\n",
    "\n",
    "import numpy as np\n",
    "from PIL import Image\n",
    "import time\n",
    "import functools"
   ]
  },
  {
   "cell_type": "code",
   "execution_count": 12,
   "id": "fe8ef68c",
   "metadata": {},
   "outputs": [],
   "source": [
    "import tensorflow as tf\n",
    "\n",
    "from tensorflow.keras.preprocessing import image as kp_image\n",
    "from tensorflow.keras import models\n",
    "from tensorflow.keras import losses\n",
    "from tensorflow.keras import layers\n",
    "from tensorflow.keras import backend as K"
   ]
  },
  {
   "cell_type": "code",
   "execution_count": 13,
   "id": "2fd095e7",
   "metadata": {},
   "outputs": [
    {
     "data": {
      "text/plain": [
       "True"
      ]
     },
     "execution_count": 13,
     "metadata": {},
     "output_type": "execute_result"
    }
   ],
   "source": [
    "# Check if eager execution is ready\n",
    "tf.executing_eagerly()"
   ]
  },
  {
   "cell_type": "code",
   "execution_count": 14,
   "id": "7c202544",
   "metadata": {},
   "outputs": [],
   "source": [
    "# Set up some global values here\n",
    "content_path = 'img/Grean_Sea_Turtle_grazing_seagrass.jpg'\n",
    "style_path = 'img/The_Great_Wave_off_Kanagawa.jpg'"
   ]
  },
  {
   "cell_type": "markdown",
   "id": "f96dcbfc",
   "metadata": {},
   "source": [
    "## Visualise the Input"
   ]
  },
  {
   "cell_type": "code",
   "execution_count": 15,
   "id": "226586e3",
   "metadata": {},
   "outputs": [],
   "source": [
    "def load_img(path_to_img):\n",
    "    max_dim = 512\n",
    "    img = Image.open(path_to_img)\n",
    "    long = max(img.size)\n",
    "    scale = max_dim/long\n",
    "    img = img.resize((round(img.size[0]*scale), round(img.size[1]*scale)), Image.ANTIALIAS)\n",
    "    \n",
    "    img = kp_image.img_to_array(img)\n",
    "    \n",
    "    # We need to broadcast the image array such that it has a batch dimension\n",
    "    img = np.expand_dims(img, axis=0)\n",
    "    return img"
   ]
  },
  {
   "cell_type": "code",
   "execution_count": 16,
   "id": "5ed01bab",
   "metadata": {},
   "outputs": [],
   "source": [
    "def imshow(img, title=None):\n",
    "    # Remove the batch dimension\n",
    "    out = np.squeeze(img, axis=0)\n",
    "    # Normalise for display\n",
    "    out = out.astype('uint8')\n",
    "    plt.imshow(out)\n",
    "    \n",
    "    if title is not None:\n",
    "        plt.title(title)\n",
    "    plt.imshow(out)"
   ]
  },
  {
   "cell_type": "markdown",
   "id": "ca7e4a61",
   "metadata": {},
   "source": [
    "These are input content and style images. We hope to \"create\" an image with the content of our content image, but with the style of the style image."
   ]
  },
  {
   "cell_type": "code",
   "execution_count": null,
   "id": "5b4b5ce7",
   "metadata": {},
   "outputs": [],
   "source": []
  }
 ],
 "metadata": {
  "kernelspec": {
   "display_name": "Python 3 (ipykernel)",
   "language": "python",
   "name": "python3"
  },
  "language_info": {
   "codemirror_mode": {
    "name": "ipython",
    "version": 3
   },
   "file_extension": ".py",
   "mimetype": "text/x-python",
   "name": "python",
   "nbconvert_exporter": "python",
   "pygments_lexer": "ipython3",
   "version": "3.8.10"
  }
 },
 "nbformat": 4,
 "nbformat_minor": 5
}
